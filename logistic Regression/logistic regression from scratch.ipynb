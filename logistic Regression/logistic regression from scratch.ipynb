{
 "cells": [
  {
   "cell_type": "code",
   "execution_count": 1,
   "id": "e5c78ee4",
   "metadata": {},
   "outputs": [],
   "source": [
    "import numpy as np"
   ]
  },
  {
   "cell_type": "code",
   "execution_count": 2,
   "id": "792686ad",
   "metadata": {},
   "outputs": [],
   "source": [
    "class LogisticRegression():\n",
    "    \n",
    "    def __init__(self,learning_rate,number_of_instances):\n",
    "        \n",
    "        self.learning_rate = learning_rate\n",
    "        self.no_of_instances = number_of_instances\n",
    "        \n",
    "    def fit(self,X,Y):\n",
    "        self.m = X.shape\n",
    "        self.n = X.shape\n",
    "        \n",
    "        self.w = np.zeros(self.n)\n",
    "        self.b = 0\n",
    "        self.X = X\n",
    "        self.Y = Y\n",
    "        \n",
    "        \n",
    "        for i in range(no_of_iteration):\n",
    "            self.update_weights()\n",
    "            \n",
    "        \n",
    "    def update_weights(self):\n",
    "        z = self.X.dot(self.w) + self.b\n",
    "        y_hat = (1/1+np.exp(-z))\n",
    "        \n",
    "        dw = (1/self.m)*(self.X.T.dot(y_hat-self.y))\n",
    "        #w = (1/self.m)*np.dot(self.X.T,(y_hat-self.y))\n",
    "        db = (1/self.m)*np.sum(y_hat-slef.y)\n",
    "        \n",
    "        self.w -= self.learning_rate * dw\n",
    "        self.b -= self.learning_rate * db\n",
    "        \n",
    "    def predict(self,X):\n",
    "        z = self.X.dot(self.w) + self.b\n",
    "        y_hat = (1/1+np.exp(-z))\n",
    "        y_pred = np.where(y_pred >0.5,1,0)\n",
    "        return y_pred"
   ]
  },
  {
   "cell_type": "code",
   "execution_count": 3,
   "id": "73323b4c",
   "metadata": {},
   "outputs": [],
   "source": [
    "model = LogisticRegression(0.01,1000)"
   ]
  }
 ],
 "metadata": {
  "kernelspec": {
   "display_name": "Python 3 (ipykernel)",
   "language": "python",
   "name": "python3"
  },
  "language_info": {
   "codemirror_mode": {
    "name": "ipython",
    "version": 3
   },
   "file_extension": ".py",
   "mimetype": "text/x-python",
   "name": "python",
   "nbconvert_exporter": "python",
   "pygments_lexer": "ipython3",
   "version": "3.8.13"
  }
 },
 "nbformat": 4,
 "nbformat_minor": 5
}

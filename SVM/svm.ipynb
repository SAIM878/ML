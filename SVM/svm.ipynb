{
 "cells": [
  {
   "cell_type": "code",
   "execution_count": 1,
   "id": "618a0ae8",
   "metadata": {},
   "outputs": [],
   "source": [
    "import numpy as np"
   ]
  },
  {
   "cell_type": "code",
   "execution_count": 3,
   "id": "19100f3b",
   "metadata": {},
   "outputs": [
    {
     "ename": "IndentationError",
     "evalue": "expected an indented block (270187119.py, line 9)",
     "output_type": "error",
     "traceback": [
      "\u001b[1;36m  Input \u001b[1;32mIn [3]\u001b[1;36m\u001b[0m\n\u001b[1;33m    def update_parameters():\u001b[0m\n\u001b[1;37m    ^\u001b[0m\n\u001b[1;31mIndentationError\u001b[0m\u001b[1;31m:\u001b[0m expected an indented block\n"
     ]
    }
   ],
   "source": [
    "class SVM_Classifier():\n",
    "    def __init__(self,learning_rate,number_of_iterations,lambda_parameter):\n",
    "        self.learning_rate = learning_rate\n",
    "        self.number_of_iterations = number_of_iterations\n",
    "        self.lambda_parameters = lambda_parameter\n",
    "    def fit(self,x,y):\n",
    "        self.m,self.n = x.shape\n",
    "        \n",
    "        self.w = np.zeros(self.m)\n",
    "        self.b = =0\n",
    "        self.x = x\n",
    "        self.y = y\n",
    "        for i in range(self.number_of_iterations):\n",
    "            update_parameters()\n",
    "        \n",
    "        \n",
    "        \n",
    "    def update_parameters(self):\n",
    "        y_label = np.where(self.y <= 0,-1,1)\n",
    "        \n",
    "        for index,x_i in enumerate(self.x):\n",
    "            condition = y_label[index] * (np.dot(x_i,self.w)-b)\n",
    "        \n",
    "            if condition == True:\n",
    "                dw = 2*lambda_parameter*self.w\n",
    "                db = 0\n",
    "            else:\n",
    "                dw = 2*self.lambda_parameter*self.w-np.dot(x_i,y_label[index])\n",
    "                db = y[index]\n",
    "        \n",
    "        self.w = self.w - self.learning_rate*dw\n",
    "        self.b = self.b - self.learning_rate*db\n",
    "    def predict(self,x):\n",
    "        output = np.dot(x,self.w) -self.b\n",
    "        predicted_labels = np.sign(output)\n",
    "        y_hat = np.where(predicted_labels <=0,0,1)\n",
    "        return y_hat"
   ]
  },
  {
   "cell_type": "code",
   "execution_count": 3,
   "id": "eaa6f9ce",
   "metadata": {},
   "outputs": [
    {
     "name": "stdout",
     "output_type": "stream",
     "text": [
      "1 8\n"
     ]
    }
   ],
   "source": [
    "x = np.array([[9,8,76,5,5,4,4,3]])\n",
    "a,b = x.shape\n",
    "print(a,b)"
   ]
  }
 ],
 "metadata": {
  "kernelspec": {
   "display_name": "Python 3 (ipykernel)",
   "language": "python",
   "name": "python3"
  },
  "language_info": {
   "codemirror_mode": {
    "name": "ipython",
    "version": 3
   },
   "file_extension": ".py",
   "mimetype": "text/x-python",
   "name": "python",
   "nbconvert_exporter": "python",
   "pygments_lexer": "ipython3",
   "version": "3.8.13"
  }
 },
 "nbformat": 4,
 "nbformat_minor": 5
}
